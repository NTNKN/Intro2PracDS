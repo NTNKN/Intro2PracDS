{
 "cells": [
  {
   "cell_type": "markdown",
   "metadata": {},
   "source": [
    "# 実践データ科学入門 2020年度木曜2限\n",
    "\n",
    "# Python 超入門"
   ]
  },
  {
   "cell_type": "markdown",
   "metadata": {},
   "source": [
    "## まずは Python のお手習いから\n",
    "\n",
    "セルは `Shift + Enter` で実行する\n",
    "\n",
    "何も考えずに `Shift + Enter` を連打しよう  \n",
    "最後のセルまでエラーなく実行できたら，とりあえず Jupyter Notebook のインストールは問題ない"
   ]
  },
  {
   "cell_type": "markdown",
   "metadata": {},
   "source": [
    "### The Zen of Python"
   ]
  },
  {
   "cell_type": "code",
   "execution_count": null,
   "metadata": {},
   "outputs": [],
   "source": [
    "import this\n",
    "\n",
    "# Dutch = Guido van Rossum"
   ]
  },
  {
   "cell_type": "markdown",
   "metadata": {},
   "source": [
    "ちなみに，コードセルで # を打つと，その行の # 以降はコードとして処理されなくなる（コメントアウトという）  \n",
    "メモをするのに用いたり，コード文を消さずに一時的に実行させないようにする場合に用いる\n",
    "\n",
    "---"
   ]
  },
  {
   "cell_type": "markdown",
   "metadata": {},
   "source": [
    "### Python 電卓"
   ]
  },
  {
   "cell_type": "code",
   "execution_count": null,
   "metadata": {},
   "outputs": [],
   "source": [
    "# 変数 x に 3 という値を格納し，y に 2 を格納\n",
    "x = 3\n",
    "y = 2"
   ]
  },
  {
   "cell_type": "code",
   "execution_count": null,
   "metadata": {},
   "outputs": [],
   "source": [
    "# x+y を実行\n",
    "x+y"
   ]
  },
  {
   "cell_type": "markdown",
   "metadata": {},
   "source": [
    "x+y が処理され，その結果が表示された  \n",
    "Jupyter Notebook では print 文を用いなくても結果を表示させることができる"
   ]
  },
  {
   "cell_type": "code",
   "execution_count": null,
   "metadata": {},
   "outputs": [],
   "source": [
    "# 和と差の2つの処理を行う\n",
    "x+y\n",
    "x-y"
   ]
  },
  {
   "cell_type": "markdown",
   "metadata": {},
   "source": [
    "x-yのみが表示された．  \n",
    "内部では x+y も処理されているが，最後の結果しか表示されない  \n",
    "そのためいずれの結果も表示させたい場合は，明示的に表示させるコマンドを用いよう"
   ]
  },
  {
   "cell_type": "code",
   "execution_count": null,
   "metadata": {},
   "outputs": [],
   "source": [
    "print(x+y)\n",
    "print(x-y)"
   ]
  },
  {
   "cell_type": "markdown",
   "metadata": {},
   "source": [
    "このように和と差の結果をどちらも表示できる\n",
    "\n",
    "また，print文を使って，変数の表示だけでなく，文章も入れることができる"
   ]
  },
  {
   "cell_type": "code",
   "execution_count": null,
   "metadata": {},
   "outputs": [],
   "source": [
    "print('x + y =', x+y , 'です')"
   ]
  },
  {
   "cell_type": "code",
   "execution_count": null,
   "metadata": {},
   "outputs": [],
   "source": [
    "# もしくは\n",
    "print('x + y = %d です'%(x+y))"
   ]
  },
  {
   "cell_type": "markdown",
   "metadata": {},
   "source": [
    "結果をわかりやすく表示させたい場合にしばしば用いる\n",
    "\n",
    "また，print文を2つ並べなくても，変数を `,` で区切って並べれば1度に表示できる"
   ]
  },
  {
   "cell_type": "code",
   "execution_count": null,
   "metadata": {},
   "outputs": [],
   "source": [
    "# このように , で区切ると2つの処理を表示できる\n",
    "x+y, x-y"
   ]
  },
  {
   "cell_type": "markdown",
   "metadata": {},
   "source": [
    "`,` で区切られたもの（もしくは `(` と `)` で囲み，中の要素を `,` で区切る）はタプルと呼ばれ，1つの集まりとして処理される"
   ]
  },
  {
   "cell_type": "code",
   "execution_count": null,
   "metadata": {},
   "outputs": [],
   "source": [
    "x = y\n",
    "# とやってから上のセルに戻ると．．．"
   ]
  },
  {
   "cell_type": "markdown",
   "metadata": {},
   "source": [
    "Jupyter Notebook では処理順が重要  \n",
    "セルの順に処理される訳ではないので，上のセルを実行すると x に y の値 2 が代入されるので，  \n",
    "`x+y` や `x-y` の結果が変わってしまう\n",
    "\n",
    "---"
   ]
  },
  {
   "cell_type": "markdown",
   "metadata": {},
   "source": [
    "### ブール値（論理変数）も"
   ]
  },
  {
   "cell_type": "code",
   "execution_count": null,
   "metadata": {},
   "outputs": [],
   "source": [
    "x = 3\n",
    "y = 2\n",
    "x > y\n",
    "#真偽判定をしてくれる"
   ]
  },
  {
   "cell_type": "markdown",
   "metadata": {},
   "source": [
    "上では `x > y` という命題は真なので `True` が出力された"
   ]
  },
  {
   "cell_type": "code",
   "execution_count": null,
   "metadata": {},
   "outputs": [],
   "source": [
    "x > 2*y"
   ]
  },
  {
   "cell_type": "markdown",
   "metadata": {},
   "source": [
    "`x > 2*y` という命題は偽なので `False` が出力された\n",
    "\n",
    "---"
   ]
  },
  {
   "cell_type": "markdown",
   "metadata": {},
   "source": [
    "### 10進数以外も入力可能"
   ]
  },
  {
   "cell_type": "code",
   "execution_count": null,
   "metadata": {},
   "outputs": [],
   "source": [
    "# 16進数で入力するときは 0x を頭につける\n",
    "0x11"
   ]
  },
  {
   "cell_type": "code",
   "execution_count": null,
   "metadata": {},
   "outputs": [],
   "source": [
    "# 8進数で入力するときは 0o を頭につける\n",
    "0o11"
   ]
  },
  {
   "cell_type": "code",
   "execution_count": null,
   "metadata": {},
   "outputs": [],
   "source": [
    "# 2進数で入力するときは 0b を頭につける\n",
    "0b11"
   ]
  },
  {
   "cell_type": "markdown",
   "metadata": {},
   "source": [
    "それぞれ10進数で表示される\n",
    "\n",
    "---"
   ]
  },
  {
   "cell_type": "markdown",
   "metadata": {},
   "source": [
    "### 浮動小数点数の表し方"
   ]
  },
  {
   "cell_type": "code",
   "execution_count": null,
   "metadata": {},
   "outputs": [],
   "source": [
    "# 浮動小数点数\n",
    "print('1.2345e3 =', 1.2345e3)\n",
    "print('1.23e-1 =', 1.23e-1)"
   ]
  },
  {
   "cell_type": "code",
   "execution_count": null,
   "metadata": {},
   "outputs": [],
   "source": [
    "x = 1\n",
    "y = 1.\n",
    "print ( 'x=', x, ', y=', y)\n",
    "print (type(x), type(y))"
   ]
  },
  {
   "cell_type": "markdown",
   "metadata": {},
   "source": [
    "---\n",
    "\n",
    "### 複素数も可能"
   ]
  },
  {
   "cell_type": "code",
   "execution_count": null,
   "metadata": {},
   "outputs": [],
   "source": [
    "# 複素数\n",
    "z = 1+2j\n",
    "print(z)\n",
    "print(type(z))\n",
    "\n",
    "print( 'real part of z is', z.real)\n",
    "print( 'imaginary part of z is', z.imag)\n",
    "print( 'absolute value of z is', abs(z))\n",
    "print( 'conjugate of z is', z.conjugate())"
   ]
  },
  {
   "cell_type": "markdown",
   "metadata": {},
   "source": [
    "---\n",
    "\n",
    "### 四則計算に関して"
   ]
  },
  {
   "cell_type": "code",
   "execution_count": null,
   "metadata": {},
   "outputs": [],
   "source": [
    "# 除算\n",
    "print(5/2)  # 自動的に有理数で計算する\n",
    "print(5//2) # 整数のまま割り算する\n",
    "\n",
    "print(5%2) # 剰余を計算するには % を用いる"
   ]
  },
  {
   "cell_type": "code",
   "execution_count": null,
   "metadata": {},
   "outputs": [],
   "source": [
    "# べき乗\n",
    "print (2**10)\n",
    "print (2**(1/2))"
   ]
  },
  {
   "cell_type": "markdown",
   "metadata": {},
   "source": [
    "---\n",
    "\n",
    "### 文字列操作"
   ]
  },
  {
   "cell_type": "code",
   "execution_count": null,
   "metadata": {},
   "outputs": [],
   "source": [
    "# 文字列\n",
    "s = 'Hello, world!'\n",
    "print (s)\n",
    "print (type(s)) # 変数 s のタイプを表示．文字列は string"
   ]
  },
  {
   "cell_type": "code",
   "execution_count": null,
   "metadata": {},
   "outputs": [],
   "source": [
    "s = \"Hello, world!\" # 引用符はダブルクォートでもよい\n",
    "print (s)\n",
    "print (type(s))"
   ]
  },
  {
   "cell_type": "markdown",
   "metadata": {},
   "source": [
    "### エスケープシーケンス\n",
    "\n",
    "表示できない文字や特殊な文字を入力するのに用いる"
   ]
  },
  {
   "cell_type": "code",
   "execution_count": null,
   "metadata": {},
   "outputs": [],
   "source": [
    "# エスケープシーケンス\n",
    "#print ('\\') #と書くと怒られる\n",
    "print ('\\\\') # バックスラッシュを表示するには \\\\"
   ]
  },
  {
   "cell_type": "code",
   "execution_count": null,
   "metadata": {},
   "outputs": [],
   "source": [
    "# print ('I don't know Python.') # と書くと怒られる\n",
    "print ('I don\\'t know Python.') # アポストロフィを表示するには \\'"
   ]
  },
  {
   "cell_type": "code",
   "execution_count": null,
   "metadata": {},
   "outputs": [],
   "source": [
    "# \\n は改行記号\n",
    "print ('abcdefghijklmnopqrstuvwxyz')\n",
    "print ('abcdefghijklm\\nopqrstuvwxyz')"
   ]
  },
  {
   "cell_type": "code",
   "execution_count": null,
   "metadata": {},
   "outputs": [],
   "source": [
    "#1 + 2 + \n",
    "#3\n",
    "# と書くと怒られる\n",
    "\n",
    "# コードが二行にわたる場合は \\ を入れておく\n",
    "1 + 2 + \\\n",
    "3"
   ]
  },
  {
   "cell_type": "code",
   "execution_count": null,
   "metadata": {},
   "outputs": [],
   "source": [
    "#print('abcdefghijklmn\n",
    "#      opqrstuvwxyz')\n",
    "# と書くと怒られる\n",
    "\n",
    "print('abcdefghijklmn\\\n",
    "opqrstuvwxyz')"
   ]
  },
  {
   "cell_type": "code",
   "execution_count": null,
   "metadata": {},
   "outputs": [],
   "source": [
    "# トリプルクォートを使っても二行にわたってコードをかける\n",
    "print('''abcdefghijklmn\n",
    "opqrstuvwxyz''')\n",
    "# ただし文字列は改行される"
   ]
  },
  {
   "cell_type": "code",
   "execution_count": null,
   "metadata": {},
   "outputs": [],
   "source": [
    "# RAW文字列: 記入したまま出力\n",
    "print ( r'Hello, \\n world!' ) # エスケープシーケンスは無効化\n",
    "print ( 'Hello, \\n world!' )"
   ]
  },
  {
   "cell_type": "markdown",
   "metadata": {},
   "source": [
    "---\n",
    "\n",
    "### 文字列の結合"
   ]
  },
  {
   "cell_type": "code",
   "execution_count": null,
   "metadata": {},
   "outputs": [],
   "source": [
    "# 文字列の結合\n",
    "s1 = 'This'\n",
    "s2 = 'is'\n",
    "s3 = 'a'\n",
    "s4 = 'pen'\n",
    "\n",
    "s1 + s2 + s3 + s4"
   ]
  },
  {
   "cell_type": "markdown",
   "metadata": {},
   "source": [
    "文字列をそのまま結合するので単語の間にスペースはない"
   ]
  },
  {
   "cell_type": "code",
   "execution_count": null,
   "metadata": {},
   "outputs": [],
   "source": [
    "# 半角スペースも結合してやればよい\n",
    "s = s1 + ' ' + s2 + ' ' + s3 + ' ' + s4\n",
    "print (s)"
   ]
  },
  {
   "cell_type": "code",
   "execution_count": null,
   "metadata": {},
   "outputs": [],
   "source": [
    "# 文字列を繰り返す\n",
    "'Kyoto'*5"
   ]
  },
  {
   "cell_type": "markdown",
   "metadata": {},
   "source": [
    "### 文字列から文字の呼び出し"
   ]
  },
  {
   "cell_type": "code",
   "execution_count": null,
   "metadata": {},
   "outputs": [],
   "source": [
    "s = s1 + ' ' + s2 + ' ' + s3 + ' ' + s4\n",
    "print(len(s)) # 文字列配列の長さを調べるには len という関数を用いる"
   ]
  },
  {
   "cell_type": "code",
   "execution_count": null,
   "metadata": {},
   "outputs": [],
   "source": [
    "# Python の配列は 0 番から始まる\n",
    "s[0] # 配列 s の 0 番目の要素を呼び出す"
   ]
  },
  {
   "cell_type": "code",
   "execution_count": null,
   "metadata": {},
   "outputs": [],
   "source": [
    "s[1] # 配列 s の 1 番目の要素を呼び出す"
   ]
  },
  {
   "cell_type": "code",
   "execution_count": null,
   "metadata": {},
   "outputs": [],
   "source": [
    "s[4] # 配列 s の 4 番目の要素を呼び出す"
   ]
  },
  {
   "cell_type": "code",
   "execution_count": null,
   "metadata": {},
   "outputs": [],
   "source": [
    "# 配列 s の長さが 13 なので，最後は 12 番目\n",
    "s[12] # 配列 s の 12 番目の要素を呼び出す\n",
    "\n",
    "# s[13] # とするとエラー"
   ]
  },
  {
   "cell_type": "code",
   "execution_count": null,
   "metadata": {},
   "outputs": [],
   "source": [
    "# -1 としてもよい．\n",
    "s[-1]  # 配列 s の後ろから 1 番目の配列の要素を呼び出す"
   ]
  },
  {
   "cell_type": "code",
   "execution_count": null,
   "metadata": {},
   "outputs": [],
   "source": [
    "# -2 は最後から\n",
    "s[-2]  # 配列 s の後ろから 2 番目の要素を呼び出す"
   ]
  },
  {
   "cell_type": "code",
   "execution_count": null,
   "metadata": {},
   "outputs": [],
   "source": [
    "L = len(s)\n",
    "print (L)\n",
    "\n",
    "print (s[L-1])\n",
    "print (s[0:L])"
   ]
  },
  {
   "cell_type": "code",
   "execution_count": null,
   "metadata": {},
   "outputs": [],
   "source": [
    "# 配列の部分的な要素をまとめて取り出すこともできる\n",
    "s[2:11]\n",
    "\n",
    "# これは 2 番目から 10 番目までの要素を取り出す\n",
    "# 11 番目までの要素を取り出していないことに注意しよう"
   ]
  },
  {
   "cell_type": "code",
   "execution_count": null,
   "metadata": {},
   "outputs": [],
   "source": [
    "# 配列の長さより大きな番号のスライスで呼び出してもエラーにはならない\n",
    "s[0:20]"
   ]
  },
  {
   "cell_type": "markdown",
   "metadata": {},
   "source": [
    "### 文字列の出力"
   ]
  },
  {
   "cell_type": "code",
   "execution_count": null,
   "metadata": {},
   "outputs": [],
   "source": [
    "d1 = 'Thursday'\n",
    "d2 = 'Friday'\n",
    "print ('Today is %s and tomorrow is %s.' %(d1, d2) )"
   ]
  },
  {
   "cell_type": "code",
   "execution_count": null,
   "metadata": {},
   "outputs": [],
   "source": [
    "y = 2018\n",
    "print ('Year %d' %y)\n",
    "print ('Year %5d' %y)\n",
    "print ('Year %05d' %y)"
   ]
  },
  {
   "cell_type": "code",
   "execution_count": null,
   "metadata": {},
   "outputs": [],
   "source": [
    "y = 1.23\n",
    "print ('%f' %y)\n",
    "print ('%4.2f' %y)\n",
    "print ('%5.2f' %y)\n",
    "print ('%8.4f' %y)\n",
    "print ('%05.2f' %y)"
   ]
  },
  {
   "cell_type": "markdown",
   "metadata": {},
   "source": [
    "### タプル，リスト（あと辞書や集合もある）"
   ]
  },
  {
   "cell_type": "code",
   "execution_count": null,
   "metadata": {},
   "outputs": [],
   "source": [
    "# タプル ( , )\n",
    "(x, y) = (12, 3) # x と y に同時に値を代入\n",
    "print(x, y)     # タプルを表示"
   ]
  },
  {
   "cell_type": "code",
   "execution_count": null,
   "metadata": {},
   "outputs": [],
   "source": [
    "x, y = 1.2, 2.0  # タプルには括弧は必要ない\n",
    "print(x, y)"
   ]
  },
  {
   "cell_type": "code",
   "execution_count": null,
   "metadata": {},
   "outputs": [],
   "source": [
    "num = (x, y)  # num という変数名のタプルを作成\n",
    "print(num)    # 作成したタプルを表示\n",
    "print(num[0]) # タプルの0番目の要素を取り出す"
   ]
  },
  {
   "cell_type": "code",
   "execution_count": null,
   "metadata": {},
   "outputs": [],
   "source": [
    "# リスト [ , ]\n",
    "num = [1, 2, 3]  # num という変数名のリストを作成\n",
    "print(num)      # 作成したリストを表示\n",
    "print(num[1])   # リストの1番目の要素を取り出す"
   ]
  },
  {
   "cell_type": "code",
   "execution_count": null,
   "metadata": {},
   "outputs": [],
   "source": [
    "# append でリストに要素を追加\n",
    "num = [1, 2, 3]\n",
    "num.append(4) # num の末尾に 4 という要素を追加\n",
    "num.append(5) # num の末尾に 5 という要素を追加\n",
    "print (num) "
   ]
  },
  {
   "cell_type": "code",
   "execution_count": null,
   "metadata": {},
   "outputs": [],
   "source": [
    "num = [1, 2, 3]\n",
    "#num.append(4, 5) #と追加することはできない\n",
    "num.append([4, 5])\n",
    "print (num)"
   ]
  },
  {
   "cell_type": "markdown",
   "metadata": {},
   "source": [
    "リストの要素の中にリストが入ってしまう"
   ]
  },
  {
   "cell_type": "code",
   "execution_count": null,
   "metadata": {},
   "outputs": [],
   "source": [
    "num = [1, 2, 3]\n",
    "num.append((4, 5))\n",
    "print (num)"
   ]
  },
  {
   "cell_type": "markdown",
   "metadata": {},
   "source": [
    "リストの要素の中にタプルが入ってしまう\n",
    "\n",
    "リストにいっぺんに要素を追加するときは代入演算子 `+=` を使おう"
   ]
  },
  {
   "cell_type": "code",
   "execution_count": null,
   "metadata": {},
   "outputs": [],
   "source": [
    "num = [1, 2, 3]\n",
    "num += [4, 5]\n",
    "print (num)"
   ]
  },
  {
   "cell_type": "code",
   "execution_count": null,
   "metadata": {},
   "outputs": [],
   "source": [
    "# これは以下と同じ\n",
    "num = [1, 2, 3]\n",
    "num = num + [4, 5]\n",
    "print (num)"
   ]
  },
  {
   "cell_type": "code",
   "execution_count": null,
   "metadata": {},
   "outputs": [],
   "source": [
    "num = [1, 2, 3]\n",
    "num.extend([4, 5])\n",
    "print (num)"
   ]
  },
  {
   "cell_type": "code",
   "execution_count": null,
   "metadata": {},
   "outputs": [],
   "source": [
    "# リスト内リスト\n",
    "num = [[1, 2, 3], [4, 5, 6]]\n",
    "print (num)\n",
    "print (num[1])\n",
    "print (num[1][0]) # print (num[1,0]) とはできない"
   ]
  },
  {
   "cell_type": "code",
   "execution_count": null,
   "metadata": {},
   "outputs": [],
   "source": [
    "num = [[1], [2, 3], [4, 5, 6]]\n",
    "print (num)\n",
    "# リストは行列ではないので，行によってサイズが変わってもよい"
   ]
  },
  {
   "cell_type": "code",
   "execution_count": null,
   "metadata": {},
   "outputs": [],
   "source": [
    "#　リストのコピーの注意\n",
    "num1 = [1, 2, 3]\n",
    "num2 = num1\n",
    "print (num1)\n",
    "print (num2)\n",
    "\n",
    "num2.append(4)\n",
    "print (num2)\n",
    "print (num1)\n",
    "\n",
    "# num2 = num1 は，リストの参照元の「番地」をコピーしているだけ\n",
    "# num2 という新しい変数を作っているわけではない\n",
    "# なので，num2 を変更すると num1 も変更されてしまう"
   ]
  },
  {
   "cell_type": "code",
   "execution_count": null,
   "metadata": {},
   "outputs": [],
   "source": [
    "# copy を使うことでリストの内容を写した新しいリストを作ることができる\n",
    "num1 = [1, 2, 3]\n",
    "num2 = num1.copy() \n",
    "\n",
    "num2.append(4)\n",
    "print (num2)\n",
    "print (num1) # num2 を変更しても num1 には影響しない"
   ]
  },
  {
   "cell_type": "markdown",
   "metadata": {},
   "source": [
    "### NumPy"
   ]
  },
  {
   "cell_type": "markdown",
   "metadata": {},
   "source": [
    "Python で数値計算を行う場合には NumPy というライブラリは必要不可欠"
   ]
  },
  {
   "cell_type": "code",
   "execution_count": null,
   "metadata": {},
   "outputs": [],
   "source": [
    "import numpy as np\n",
    "# import numpy で呼び出す\n",
    "# numpy の関数はよく使うので，as np として名前空間を定めておく"
   ]
  },
  {
   "cell_type": "code",
   "execution_count": null,
   "metadata": {},
   "outputs": [],
   "source": [
    "# 円周率\n",
    "print(np.pi)"
   ]
  },
  {
   "cell_type": "code",
   "execution_count": null,
   "metadata": {},
   "outputs": [],
   "source": [
    "# ネイピア数\n",
    "print(np.exp(1))"
   ]
  },
  {
   "cell_type": "code",
   "execution_count": null,
   "metadata": {},
   "outputs": [],
   "source": [
    "x = 1j # 虚数単位\n",
    "\n",
    "print ( np.exp(np.pi*x)+1 ) # オイラーの公式"
   ]
  },
  {
   "cell_type": "code",
   "execution_count": null,
   "metadata": {},
   "outputs": [],
   "source": [
    "np.sin(np.pi/6)"
   ]
  },
  {
   "cell_type": "markdown",
   "metadata": {},
   "source": [
    "numpy はこの講義でも非常に良く使うが詳しくはおいおい"
   ]
  },
  {
   "cell_type": "markdown",
   "metadata": {},
   "source": [
    "# 課題\n",
    "\n",
    "### 以下の2つ出力結果を PandA の課題ページの「インライン」に書き込んで提出すること．\n",
    "\n",
    "1. この Notebook の最初に実行した `import this` の出力結果  \n",
    "    もし出力されなくなったら，上の Kernel > Restart & Clear Output から出力をクリアして，最初からセルを実行し直すと良い\n",
    "2. この下のセルにある `print(sys.version)` の出力結果"
   ]
  },
  {
   "cell_type": "code",
   "execution_count": null,
   "metadata": {},
   "outputs": [],
   "source": [
    "import sys\n",
    "print(sys.version)"
   ]
  },
  {
   "cell_type": "markdown",
   "metadata": {},
   "source": [
    "<h3><div style=\"text-align: right;\">以上</div></h3>"
   ]
  },
  {
   "cell_type": "code",
   "execution_count": null,
   "metadata": {},
   "outputs": [],
   "source": []
  }
 ],
 "metadata": {
  "hide_input": false,
  "kernelspec": {
   "display_name": "Python 3",
   "language": "python",
   "name": "python3"
  },
  "language_info": {
   "codemirror_mode": {
    "name": "ipython",
    "version": 3
   },
   "file_extension": ".py",
   "mimetype": "text/x-python",
   "name": "python",
   "nbconvert_exporter": "python",
   "pygments_lexer": "ipython3",
   "version": "3.7.5"
  }
 },
 "nbformat": 4,
 "nbformat_minor": 4
}
