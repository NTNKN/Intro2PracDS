{
 "cells": [
  {
   "cell_type": "markdown",
   "metadata": {},
   "source": [
    "# 実践データ科学入門 2020年度木曜4限\n",
    "\n",
    "# 第2回 その3 線形回帰 with Iris"
   ]
  },
  {
   "cell_type": "code",
   "execution_count": null,
   "metadata": {},
   "outputs": [],
   "source": [
    "%matplotlib notebook\n",
    "import matplotlib.pyplot as plt\n",
    "\n",
    "import numpy as np\n",
    "from sklearn import datasets\n",
    "import pandas as pd\n",
    "\n",
    "# Irisデータセット読み込み\n",
    "iris = datasets.load_iris()"
   ]
  },
  {
   "cell_type": "code",
   "execution_count": null,
   "metadata": {},
   "outputs": [],
   "source": [
    "# データは data 属性に numpy.ndarray として入っている\n",
    "print(type(iris.data))\n",
    "print(iris.data)"
   ]
  },
  {
   "cell_type": "code",
   "execution_count": null,
   "metadata": {},
   "outputs": [],
   "source": [
    "# iris.data の形を表示\n",
    "print(iris.data.shape)"
   ]
  },
  {
   "cell_type": "markdown",
   "metadata": {},
   "source": [
    "150 x 4 の二次元配列（行列）として格納されている"
   ]
  },
  {
   "cell_type": "code",
   "execution_count": null,
   "metadata": {},
   "outputs": [],
   "source": [
    "# データの特徴量\n",
    "print(iris.feature_names)"
   ]
  },
  {
   "cell_type": "code",
   "execution_count": null,
   "metadata": {},
   "outputs": [],
   "source": [
    "# あやめの種類は target 属性に numpy.ndarray として入っている\n",
    "print(type(iris.target))\n",
    "print(iris.target)"
   ]
  },
  {
   "cell_type": "markdown",
   "metadata": {},
   "source": [
    "あやめの種類は 0, 1, 2 として数字で表されている  \n",
    "どの数字がその種に対応するかを調べる"
   ]
  },
  {
   "cell_type": "code",
   "execution_count": null,
   "metadata": {},
   "outputs": [],
   "source": [
    "print(iris.target_names)"
   ]
  },
  {
   "cell_type": "markdown",
   "metadata": {},
   "source": [
    "0 が setosa, 1 が versicolor，2 が virginica"
   ]
  },
  {
   "cell_type": "code",
   "execution_count": null,
   "metadata": {},
   "outputs": [],
   "source": [
    "for i in range(iris.target_names.size):\n",
    "    print('%1d = %s' %(i, iris.target_names[i]))"
   ]
  },
  {
   "cell_type": "code",
   "execution_count": null,
   "metadata": {},
   "outputs": [],
   "source": [
    "# Pandas の data frame として格納\n",
    "df = pd.DataFrame(iris.data, columns=iris.feature_names)\n",
    "\n",
    "# 種類の情報を df に追加\n",
    "df['species'] = iris.target\n",
    "df"
   ]
  },
  {
   "cell_type": "code",
   "execution_count": null,
   "metadata": {},
   "outputs": [],
   "source": [
    "# data frame の最初の5インスタンスを表示\n",
    "df.head()"
   ]
  },
  {
   "cell_type": "code",
   "execution_count": null,
   "metadata": {},
   "outputs": [],
   "source": [
    "# data frame の最初の5インスタンスを表示\n",
    "df.tail()"
   ]
  },
  {
   "cell_type": "code",
   "execution_count": null,
   "metadata": {},
   "outputs": [],
   "source": [
    "# Sepal Length の値 (cm) を SL に格納\n",
    "SL = iris.data[:, 0] # データの0列目が sepal length\n",
    "print(SL)\n",
    "\n",
    "# sepal width の値 (cm) を SW に格納\n",
    "SW = iris.data[:, 1] # データの1列目が sepal width\n",
    "print(SW)\n",
    "\n",
    "# Petal Length の値 (cm) を PL に格納\n",
    "PL = iris.data[:, 2] # データの2列目が petal length\n",
    "print(PL)\n",
    "\n",
    "# Petal Widht の値 (cm) を PW に格納\n",
    "PW = iris.data[:, 3] # データの3列目が petal width\n",
    "print(PW)\n",
    "\n",
    "# Species の値 (cm) を Sp に格納\n",
    "Sp = iris.target\n",
    "print(Sp)"
   ]
  },
  {
   "cell_type": "code",
   "execution_count": null,
   "metadata": {},
   "outputs": [],
   "source": [
    "fig = plt.figure()\n",
    "ax = fig.add_subplot()\n",
    "ax.scatter(SL, PL)"
   ]
  },
  {
   "cell_type": "code",
   "execution_count": null,
   "metadata": {},
   "outputs": [],
   "source": [
    "fig = plt.figure()\n",
    "ax = fig.add_subplot()\n",
    "ax.scatter(SL[Sp==0], PL[Sp==0], marker='o', s=50, label='setosa')\n",
    "ax.scatter(SL[Sp==1], PL[Sp==1], marker='^', s=50, label='versicolor')\n",
    "ax.scatter(SL[Sp==2], PL[Sp==2], marker='x', s=50, label='virginica')\n",
    "ax.legend()"
   ]
  },
  {
   "cell_type": "code",
   "execution_count": null,
   "metadata": {},
   "outputs": [],
   "source": [
    "# 線形回帰\n",
    "from sklearn import linear_model\n",
    "clf = linear_model.LinearRegression()\n",
    "X = SL.reshape(-1, 1)\n",
    "Y = PL\n",
    "clf.fit(X, Y)\n",
    "\n",
    "a = clf.coef_[0]\n",
    "b = clf.intercept_\n",
    "print(a, b)\n",
    "\n",
    "fig = plt.figure()\n",
    "ax = fig.add_subplot()\n",
    "ax.scatter(SL[Sp==0], PL[Sp==0], marker='o', s=50, label='setosa')\n",
    "ax.scatter(SL[Sp==1], PL[Sp==1], marker='^', s=50, label='versicolor')\n",
    "ax.scatter(SL[Sp==2], PL[Sp==2], marker='x', s=50, label='virginica')\n",
    "\n",
    "x = np.arange(4.0, 8.0, 0.1)\n",
    "ax.plot(x, a*x+b, linewidth=3, c='k', label='$ax+b$')\n",
    "ax.text(5.3, 7.3, '$a$=%f, $b$=%f'%(a, b))\n",
    "ax.legend()"
   ]
  },
  {
   "cell_type": "code",
   "execution_count": null,
   "metadata": {},
   "outputs": [],
   "source": [
    "# 決定係数\n",
    "print(clf.score(X, Y))"
   ]
  },
  {
   "cell_type": "code",
   "execution_count": null,
   "metadata": {},
   "outputs": [],
   "source": [
    "clf0 = linear_model.LinearRegression()\n",
    "X0 = SL[Sp==0].reshape(-1, 1)\n",
    "Y0 = PL[Sp==0]\n",
    "clf0.fit(X0, Y0)\n",
    "a0 = clf0.coef_[0]\n",
    "b0 = clf0.intercept_\n",
    "\n",
    "clf1 = linear_model.LinearRegression()\n",
    "X1 = SL[Sp==1].reshape(-1, 1)\n",
    "Y1 = PL[Sp==1]\n",
    "clf1.fit(X1, Y1)\n",
    "a1 = clf1.coef_[0]\n",
    "b1 = clf1.intercept_\n",
    "\n",
    "clf2 = linear_model.LinearRegression()\n",
    "X2 = SL[Sp==2].reshape(-1, 1)\n",
    "Y2 = PL[Sp==2]\n",
    "clf2.fit(X2, Y2)\n",
    "a2 = clf2.coef_[0]\n",
    "b2 = clf2.intercept_\n",
    "\n",
    "\n",
    "x = np.arange(4.0, 8.0, 0.1)\n",
    "fig = plt.figure()\n",
    "ax = fig.add_subplot()\n",
    "ax.scatter(SL[Sp==0], PL[Sp==0], marker='o', s=50, label='setosa')\n",
    "ax.scatter(SL[Sp==1], PL[Sp==1], marker='^', s=50, label='versicolor')\n",
    "ax.scatter(SL[Sp==2], PL[Sp==2], marker='x', s=50, label='virginica')\n",
    "ax.plot(x, a0*x+b0, linewidth=3, c='tab:blue', label='$ax+b$')\n",
    "ax.plot(x, a1*x+b1, linewidth=3, c='tab:orange', label='$ax+b$')\n",
    "ax.plot(x, a2*x+b2, linewidth=3, c='tab:green', label='$ax+b$')\n",
    "\n",
    "ax.set_xlabel('SL', fontsize=18)\n",
    "ax.set_ylabel('PL', fontsize=18)\n",
    "ax.tick_params(labelsize=12)"
   ]
  },
  {
   "cell_type": "code",
   "execution_count": null,
   "metadata": {},
   "outputs": [],
   "source": [
    "print(a0)\n",
    "print(a1)\n",
    "print(a2)"
   ]
  },
  {
   "cell_type": "code",
   "execution_count": null,
   "metadata": {},
   "outputs": [],
   "source": [
    "print(clf0.score(X0, Y0))\n",
    "print(clf1.score(X1, Y1))\n",
    "print(clf2.score(X2, Y2))"
   ]
  },
  {
   "cell_type": "markdown",
   "metadata": {},
   "source": [
    "## 重線形回帰"
   ]
  },
  {
   "cell_type": "code",
   "execution_count": null,
   "metadata": {
    "scrolled": false
   },
   "outputs": [],
   "source": [
    "from mpl_toolkits.mplot3d import Axes3D\n",
    "fig = plt.figure()\n",
    "ax = fig.add_subplot(111, projection='3d')\n",
    "ax.scatter3D(SL[Sp==0], SW[Sp==0], PL[Sp==0], marker='o', s=50, label='setosa')\n",
    "ax.scatter3D(SL[Sp==1], SW[Sp==1], PL[Sp==1], marker='^', s=50, label='versicolor')\n",
    "ax.scatter3D(SL[Sp==2], SW[Sp==2], PL[Sp==2], marker='x', s=50, label='virginica')\n",
    "ax.set_xlabel('SL', fontsize=12)\n",
    "ax.set_ylabel('SW', fontsize=12)\n",
    "ax.set_zlabel('PL', fontsize=12)\n",
    "plt.legend()"
   ]
  },
  {
   "cell_type": "code",
   "execution_count": null,
   "metadata": {},
   "outputs": [],
   "source": [
    "#重線形回帰\n",
    "clfM = linear_model.LinearRegression()\n",
    "XM = iris.data[:, 0:2]\n",
    "YM = PL\n",
    "clfM.fit(XM, YM)\n",
    "\n",
    "aM1 = clfM.coef_[0]\n",
    "aM2 = clfM.coef_[1]\n",
    "bM = clfM.intercept_\n",
    "print(aM1, aM2, bM)\n",
    "\n",
    "fig = plt.figure()\n",
    "ax = fig.add_subplot(111, projection='3d')\n",
    "ax.scatter3D(SL[Sp==0], SW[Sp==0], PL[Sp==0], marker='o', s=50, label='setosa')\n",
    "ax.scatter3D(SL[Sp==1], SW[Sp==1], PL[Sp==1], marker='^', s=50, label='versicolor')\n",
    "ax.scatter3D(SL[Sp==2], SW[Sp==2], PL[Sp==2], marker='x', s=50, label='virginica')\n",
    "ax.set_xlabel('SL', fontsize=12)\n",
    "ax.set_ylabel('SW', fontsize=12)\n",
    "ax.set_zlabel('PL', fontsize=12)\n",
    "\n",
    "x = np.arange(4.0, 8.0, 0.25)\n",
    "y = np.arange(2.0, 4.5, 0.25)\n",
    "x, y = np.meshgrid(x, y)\n",
    "z = aM1*x + aM2*y + bM\n",
    "ax.plot_wireframe(x, y, z, linewidth=1, label='$a_1x+a_2y+b$')\n",
    "plt.legend()"
   ]
  },
  {
   "cell_type": "code",
   "execution_count": null,
   "metadata": {
    "scrolled": false
   },
   "outputs": [],
   "source": [
    "clfM0 = linear_model.LinearRegression()\n",
    "XM0 = XM[Sp==0]\n",
    "YM0 = PL[Sp==0]\n",
    "clfM0.fit(XM0, YM0)\n",
    "\n",
    "aM01 = clfM0.coef_[0]\n",
    "aM02 = clfM0.coef_[1]\n",
    "bM0 = clfM0.intercept_\n",
    "print(aM01, aM02, bM0)\n",
    "\n",
    "clfM1 = linear_model.LinearRegression()\n",
    "XM1 = XM[Sp==1]\n",
    "YM1 = PL[Sp==1]\n",
    "clfM1.fit(XM1, YM1)\n",
    "\n",
    "aM11 = clfM1.coef_[0]\n",
    "aM12 = clfM1.coef_[1]\n",
    "bM1 = clfM1.intercept_\n",
    "print(aM11, aM12, bM1)\n",
    "\n",
    "clfM2 = linear_model.LinearRegression()\n",
    "XM2 = XM[Sp==2]\n",
    "YM2 = PL[Sp==2]\n",
    "clfM2.fit(XM2, YM2)\n",
    "\n",
    "aM21 = clfM2.coef_[0]\n",
    "aM22 = clfM2.coef_[1]\n",
    "bM2 = clfM2.intercept_\n",
    "print(aM21, aM22, bM2)\n",
    "\n",
    "\n",
    "fig = plt.figure()\n",
    "ax = fig.add_subplot(111, projection='3d')\n",
    "ax.scatter3D(SL[Sp==0], SW[Sp==0], PL[Sp==0], marker='o', s=50, label='setosa')\n",
    "ax.scatter3D(SL[Sp==1], SW[Sp==1], PL[Sp==1], marker='^', s=50, label='versicolor')\n",
    "ax.scatter3D(SL[Sp==2], SW[Sp==2], PL[Sp==2], marker='x', s=50, label='virginica')\n",
    "ax.set_xlabel('SL', fontsize=12)\n",
    "ax.set_ylabel('SW', fontsize=12)\n",
    "ax.set_zlabel('PL', fontsize=12)\n",
    "\n",
    "x = np.arange(4.0, 8.0, 0.25)\n",
    "y = np.arange(2.0, 4.5, 0.25)\n",
    "x, y = np.meshgrid(x, y)\n",
    "\n",
    "z = aM01*x + aM02*y + bM0\n",
    "ax.plot_wireframe(x, y, z, linewidth=1, label='$a_{01}x+a_{02}y+b_0$', color='tab:blue')\n",
    "\n",
    "z = aM11*x + aM12*y + bM1\n",
    "ax.plot_wireframe(x, y, z, linewidth=1, label='$a_{11}x+a_{12}y+b_1$', color='tab:orange')\n",
    "\n",
    "z = aM21*x + aM22*y + bM2\n",
    "ax.plot_wireframe(x, y, z, linewidth=1, label='$a_{21}x+a_{22}y+b_2$', color='tab:green')\n",
    "plt.legend()"
   ]
  },
  {
   "cell_type": "markdown",
   "metadata": {},
   "source": [
    "<h3><div style=\"text-align: right;\">以上</div></h3>"
   ]
  }
 ],
 "metadata": {
  "hide_input": false,
  "kernelspec": {
   "display_name": "Python 3",
   "language": "python",
   "name": "python3"
  },
  "language_info": {
   "codemirror_mode": {
    "name": "ipython",
    "version": 3
   },
   "file_extension": ".py",
   "mimetype": "text/x-python",
   "name": "python",
   "nbconvert_exporter": "python",
   "pygments_lexer": "ipython3",
   "version": "3.7.5"
  }
 },
 "nbformat": 4,
 "nbformat_minor": 2
}
