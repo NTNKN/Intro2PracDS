{
 "cells": [
  {
   "cell_type": "markdown",
   "metadata": {},
   "source": [
    "# 実践データ科学入門 2020年度木曜4限\n",
    "\n",
    "# 第3回 その3 多変数多項式回帰"
   ]
  },
  {
   "cell_type": "code",
   "execution_count": null,
   "metadata": {},
   "outputs": [],
   "source": [
    "%matplotlib inline\n",
    "#%matplotlib notebook # if necessary to rotate figures in 3D plot\n",
    "import numpy as np\n",
    "import matplotlib.pyplot as plt\n",
    "import matplotlib.patches as patches\n",
    "from mpl_toolkits.mplot3d import Axes3D\n",
    "from mpl_toolkits.mplot3d import art3d\n",
    "from ipywidgets import interact\n",
    "from sklearn import linear_model"
   ]
  },
  {
   "cell_type": "markdown",
   "metadata": {},
   "source": [
    "## 多変数多項式回帰とは\n",
    "\n",
    "多項式回帰は説明変数 $x$ 1つの場合に $x$, $x^2$, $x^3$ など，$x$ のべき乘の項を回帰変数に用いる手法であった．多変数多項式回帰とは，説明変数が $x_1, x_2, \\ldots, x_M$ と複数ある場合にそれらのべき乗の項を回帰変数に用いる手法である．\n",
    "\n",
    "例えば，2変数，全次数2次であれば\n",
    "\n",
    "$$\n",
    "y = a_0 + a_{11} x_1 + a_{12} x_2 + a_{21} (x_1)^2 + a_{22} x_1 x_2 + a_{23} (x_2)^2 + \\xi\n",
    "$$\n",
    "\n",
    "というモデルを当てはめる方法である．\n",
    "\n",
    "多項式の最大次数を全次数ではなく，偏次数で考えても別に構わない．2変数，偏次数2次であれば\n",
    "\n",
    "$$\n",
    "1, \\ x_1, x_1 x_2, \\ (x_1)^2, \\ (x_1)^2 x_2, \\ (x_1)^2 (x_2)^2, \\ x_2, \\ (x_2)^2, \\ x_1 (x_2)^2\n",
    "$$\n",
    "\n",
    "を回帰変数として取ることになる．これは回帰モデルの設計をどうするかの問題なので，解析する側が自由に取って構わない．（モデルの妥当性は別に検証する必要がある．）\n",
    "\n",
    "多変数多項式回帰モデルも，説明変数 $x_j \\ (j=1, 2, \\ldots, M)$ からなる単項式を回帰変数とする重回帰モデルであると言える．"
   ]
  },
  {
   "cell_type": "markdown",
   "metadata": {},
   "source": [
    "全次数 $D$ で多変数多項式モデルを作る場合は\n",
    "\n",
    "$$\n",
    "y = \\sum_{j_1+j_2+\\ldots+j_M \\le D} a_{j_1, j_2, \\ldots, j_M} \\, (x_1)^{j_1} (x_2)^{j_2} \\ldots (x_M)^{j_M}\n",
    "$$\n",
    "\n",
    "とくに2変数の場合は\n",
    "\n",
    "$$\n",
    "y = \\sum_{j_1+j_2 \\le D} a_{j_1, j_2} \\, (x_1)^{j_1} (x_2)^{j_2}\n",
    "= \\sum_{d=0}^D \\sum_{k=0}^d a_{d, k}(x_1)^k (x_2)^{d-k}\n",
    "$$\n",
    "\n",
    "となる．回帰変数の数は\n",
    "\n",
    "$$\n",
    "\\sum_{d=0}^D \\sum_{k=0}^d 1 - 1 = \\sum_{d=0}^D (d+1) - 1 = \\sum_{d=1}^D d+ D = \\frac{D(D+1)}2 + D = \\frac{D(D+3)}2 \n",
    "$$\n",
    "\n",
    "である．"
   ]
  },
  {
   "cell_type": "markdown",
   "metadata": {},
   "source": [
    "## では計算してみよう"
   ]
  },
  {
   "cell_type": "code",
   "execution_count": null,
   "metadata": {},
   "outputs": [],
   "source": [
    "# 真のパラメータ\n",
    "B0 = 1.2\n",
    "B1 = -1.8\n",
    "B2 = 2.2\n",
    "B3 = 1.1\n",
    "B4 = -1.3\n",
    "B5 = 0.4\n",
    "\n",
    "# dataset\n",
    "N = 1000\n",
    "X1 = np.random.rand(N) * 3\n",
    "X2 = np.random.rand(N) * 3\n",
    "Y = B0 + B1*X1 + B2*X2 + B3*X1**2 + B4*X1*X2 + B5*X2**2 + np.random.randn(X1.size)"
   ]
  },
  {
   "cell_type": "code",
   "execution_count": null,
   "metadata": {},
   "outputs": [],
   "source": [
    "# フィッティングに用いる多項式の最大次数\n",
    "D = 2\n",
    "\n",
    "# 回帰変数の数\n",
    "M = D*(D+3)//2 # 定数項は回帰変数としてはカウントしない\n",
    "print('M = %d'%M)\n",
    "\n",
    "# dataset\n",
    "X_train = np.zeros((N, M))\n",
    "i = 0\n",
    "for d in range(1, D+1):\n",
    "    for k in range(d+1):\n",
    "        X_train[:, i] = X1**(d-k) * X2**k\n",
    "        i += 1\n",
    "\n",
    "        \n",
    "X_train[:, 0] = X1\n",
    "X_train[:, 1] = X2\n",
    "X_train[:, 2] = X1*X1\n",
    "X_train[:, 3] = X1*X2\n",
    "X_train[:, 4] = X2*X2\n",
    "\n",
    "reg = linear_model.LinearRegression()\n",
    "reg.fit(X_train, Y)\n",
    "\n",
    "B_pred = np.zeros(M+1)\n",
    "B_pred[0] = reg.intercept_\n",
    "B_pred[1:M+1] = reg.coef_\n",
    "B_pred\n",
    "\n",
    "i = 0\n",
    "Y_pred = np.ones(Y.size) * B_pred[0]\n",
    "for d in range(1, D+1):\n",
    "    for k in range(d+1):\n",
    "        i += 1\n",
    "        Y_pred += B_pred[i] * X1**(d-k) * X2**k\n"
   ]
  },
  {
   "cell_type": "code",
   "execution_count": null,
   "metadata": {},
   "outputs": [],
   "source": [
    "def plot_X1X2Y_and_regressionsurface(azimuth=30, elevation=30):\n",
    "    fig = plt.figure()\n",
    "    ax = Axes3D(fig)\n",
    "    ax.view_init(azim=azimuth, elev=elevation)    \n",
    "    ax.set_xlabel(\"X1\")\n",
    "    ax.set_ylabel(\"X2\")\n",
    "    ax.set_zlabel(\"Y\")\n",
    "\n",
    "    ax.set_zlim(-1, 9)\n",
    "    ax.scatter(X1, X2, Y, s=40)\n",
    "\n",
    "    X1mesh = np.arange(np.min(X1), np.max(X1), 0.3)\n",
    "    X2mesh = np.arange(np.min(X2), np.max(X2), 0.3)\n",
    "\n",
    "    X1mesh, X2mesh = np.meshgrid(X1mesh, X2mesh)\n",
    "    Ymesh = B0 + B1*X1mesh + B2*X2mesh + B3*X1mesh**2 + B4*X1mesh*X2mesh + B5*X2mesh**2\n",
    "    ax.plot_wireframe(X1mesh, X2mesh, Ymesh, linewidth=3, color='tab:orange')\n",
    "    ax.set_title('MSE = %f'%(np.sum((Y-Y_pred)**2)/Y.size), size=20)"
   ]
  },
  {
   "cell_type": "code",
   "execution_count": null,
   "metadata": {},
   "outputs": [],
   "source": [
    "interact(plot_X1X2Y_and_regressionsurface, azimuth=(0, 360, 1), elevation=(0, 90, 1))"
   ]
  },
  {
   "cell_type": "markdown",
   "metadata": {},
   "source": [
    "汎化性能のチェックや，最大全次数を変えたときの振る舞いも 3-1 や 3-2 を参考にして計算してみよう．"
   ]
  },
  {
   "cell_type": "markdown",
   "metadata": {},
   "source": [
    "# 演習問題 3-3\n",
    "\n",
    "第3回その1で Iris データセットに対して，あらゆる変数の組み合わせについて線形回帰モデルを試した．\n",
    "\n",
    "では，目的変数と説明変数のあらゆる組み合わせを取り替えて多変数多項式回帰モデルを試し，多項式次数とフィッティング精度に傾向があるか確かめよ．上でやったように多項式次数を十分高く取ると過学習してしまうので，汎化誤差が小さくなるように多項式次数を調整し，学習誤差と汎化誤差の比較も行うこと．\n",
    "\n",
    "（植物学的に意味があるかはさておき）一番フィッティングの合う多項式回帰モデルは何か．その理由も考えよ．"
   ]
  },
  {
   "cell_type": "markdown",
   "metadata": {},
   "source": [
    "<h3><div style=\"text-align: right;\">以上</div></h3>"
   ]
  }
 ],
 "metadata": {
  "hide_input": false,
  "kernelspec": {
   "display_name": "Python 3",
   "language": "python",
   "name": "python3"
  },
  "language_info": {
   "codemirror_mode": {
    "name": "ipython",
    "version": 3
   },
   "file_extension": ".py",
   "mimetype": "text/x-python",
   "name": "python",
   "nbconvert_exporter": "python",
   "pygments_lexer": "ipython3",
   "version": "3.7.5"
  }
 },
 "nbformat": 4,
 "nbformat_minor": 2
}
